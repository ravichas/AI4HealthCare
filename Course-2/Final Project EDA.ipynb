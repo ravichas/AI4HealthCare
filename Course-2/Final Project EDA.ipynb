{
 "cells": [
  {
   "cell_type": "markdown",
   "metadata": {},
   "source": [
    "# Preparing the dataset for hippocampus segmentation\n",
    "\n",
    "In this notebook you will use the skills and methods that we have talked about during our EDA Lesson to prepare the hippocampus dataset using Python. Follow the Notebook, writing snippets of code where directed so using Task comments, similar to the one below, which expects you to put the proper imports in place. Write your code directly in the cell with TASK comment. Feel free to add cells as you see fit, but please make sure that code that performs that tasked activity sits in the same cell as the Task comment.\n"
   ]
  },
  {
   "cell_type": "code",
   "execution_count": 1,
   "metadata": {},
   "outputs": [],
   "source": [
    "# TASK: Import the following libraries that we will use: \n",
    "# nibabel, matplotlib, numpy\n",
    "\n",
    " \n",
    "import matplotlib.pyplot as plt\n",
    "import nibabel as nib\n",
    "import numpy as np\n",
    "import os\n",
    "from PIL import Image\n",
    "import glob\n",
    "import shutil\n",
    "from mpl_toolkits.axes_grid1 import ImageGrid"
   ]
  },
  {
   "cell_type": "code",
   "execution_count": 2,
   "metadata": {},
   "outputs": [
    {
     "name": "stdout",
     "output_type": "stream",
     "text": [
      "/home/workspace/section1/out\r\n"
     ]
    }
   ],
   "source": [
    "!pwd"
   ]
  },
  {
   "cell_type": "markdown",
   "metadata": {},
   "source": [
    "It will help your understanding of the data a lot if you were able to use a tool that allows you to view NIFTI volumes, like [3D Slicer](https://www.slicer.org/). I will refer to Slicer throughout this Notebook and will be pasting some images showing what your output might look like."
   ]
  },
  {
   "cell_type": "markdown",
   "metadata": {},
   "source": [
    "## Loading NIFTI images using NiBabel\n",
    "\n",
    "NiBabel is a python library for working with neuro-imaging formats (including NIFTI) that we have used in some of the exercises throughout the course. Our volumes and labels are in NIFTI format, so we will use nibabel to load and inspect them.\n",
    "\n",
    "NiBabel documentation could be found here: https://nipy.org/nibabel/\n",
    "\n",
    "Our dataset sits in two directories - *images* and *labels*. Each image is represented by a single file (we are fortunate to have our data converted to NIFTI) and has a corresponding label file which is named the same as the image file.\n",
    "\n",
    "Note that our dataset is \"dirty\". There are a few images and labels that are not quite right. They should be quite obvious to notice, though. The dataset contains an equal amount of \"correct\" volumes and corresponding labels, and you don't need to alter values of any samples in order to get the clean dataset."
   ]
  },
  {
   "cell_type": "code",
   "execution_count": 3,
   "metadata": {},
   "outputs": [
    {
     "name": "stdout",
     "output_type": "stream",
     "text": [
      "/home/workspace/section1/out\n",
      "images\tlabels\n"
     ]
    }
   ],
   "source": [
    "!pwd\n",
    "! ls /data/TrainingSet\n",
    "#! ls ../../data/TrainingSet/images"
   ]
  },
  {
   "cell_type": "code",
   "execution_count": 4,
   "metadata": {
    "scrolled": false
   },
   "outputs": [
    {
     "name": "stdout",
     "output_type": "stream",
     "text": [
      "images\tlabels\n",
      "/home/workspace/section1/out\n"
     ]
    }
   ],
   "source": [
    "# TASK: Your data sits in directory /data/TrainingSet.\n",
    "# Load an image and a segmentation mask into variables \n",
    "# called image and label\n",
    "\n",
    "!ls /data/TrainingSet\n",
    "!pwd\n",
    "# path = os.path.join('..', '..', 'data', 'TrainingSet')\n",
    "# os.listdir(os.path.join(path, 'labels'))\n",
    "\n",
    "# one option\n",
    "# img = nib.load(os.path.join(path, 'images', 'hippocampus_003.nii.gz'))\n",
    "# label = nib.load(os.path.join(path, 'labels','hippocampus_003.nii.gz'))\n",
    "\n",
    "# better to use global path \n",
    "\n",
    "imgs = glob.glob(\"/data/TrainingSet/images/*nii*\")\n",
    "lbls = glob.glob(\"/data/TrainingSet/labels/*nii*\")\n",
    "\n",
    "\n",
    "img = nib.load(imgs[30])\n",
    "lbl = nib.load(lbls[30])\n",
    "\n",
    "img_data = img.get_fdata()\n",
    "lbl_data = lbl.get_fdata()"
   ]
  },
  {
   "cell_type": "code",
   "execution_count": 5,
   "metadata": {},
   "outputs": [
    {
     "name": "stdout",
     "output_type": "stream",
     "text": [
      "264\n",
      "/data/TrainingSet/images/hippocampus_118.nii.gz\n"
     ]
    }
   ],
   "source": [
    "# !ls /data/TrainingSet/images/*\n",
    "! ls -l /data/TrainingSet/images | wc -l \n",
    "! ls /data/TrainingSet/images/*_118*"
   ]
  },
  {
   "cell_type": "code",
   "execution_count": 6,
   "metadata": {},
   "outputs": [
    {
     "name": "stdout",
     "output_type": "stream",
     "text": [
      "263\r\n"
     ]
    }
   ],
   "source": [
    "! ls -l /data/TrainingSet/labels | wc -l "
   ]
  },
  {
   "cell_type": "code",
   "execution_count": 7,
   "metadata": {},
   "outputs": [
    {
     "name": "stdout",
     "output_type": "stream",
     "text": [
      "ls: cannot access '/data/TrainingSet/labels/*_118*': No such file or directory\r\n"
     ]
    }
   ],
   "source": [
    "! ls /data/TrainingSet/labels/*_118*"
   ]
  },
  {
   "cell_type": "markdown",
   "metadata": {},
   "source": [
    "File `hippocampus_118.nii.gz` is not present in the labels directory. This file should be removed. Also look at the following two files with unusual file sizes \n",
    "\n",
    "-rw-r--r-- 1 root root 81566541 Jan 29  2020 /data/TrainingSet/images/hippocampus_010.nii.gz\n",
    "\n",
    "-rw-r--r-- 1 root root 9811232 Jan 29  2020 /data/TrainingSet/images/hippocampus_281.nii.gz"
   ]
  },
  {
   "cell_type": "code",
   "execution_count": 8,
   "metadata": {},
   "outputs": [
    {
     "name": "stdout",
     "output_type": "stream",
     "text": [
      "(36, 52, 37)\n",
      "(36, 52, 37)\n"
     ]
    }
   ],
   "source": [
    "print(img_data.shape)\n",
    "print(lbl_data.shape)"
   ]
  },
  {
   "cell_type": "code",
   "execution_count": 9,
   "metadata": {},
   "outputs": [
    {
     "name": "stdout",
     "output_type": "stream",
     "text": [
      "/data/TrainingSet/images/hippocampus_376.nii.gz (35, 55, 37)\n",
      "/data/TrainingSet/images/hippocampus_165.nii.gz (34, 49, 29)\n",
      "/data/TrainingSet/images/hippocampus_286.nii.gz (37, 45, 46)\n",
      "/data/TrainingSet/images/hippocampus_152.nii.gz (36, 53, 37)\n",
      "/data/TrainingSet/images/hippocampus_176.nii.gz (35, 50, 36)\n",
      "/data/TrainingSet/images/hippocampus_096.nii.gz (34, 47, 39)\n",
      "/data/TrainingSet/images/hippocampus_068.nii.gz (36, 40, 43)\n",
      "/data/TrainingSet/images/hippocampus_289.nii.gz (35, 49, 36)\n",
      "/data/TrainingSet/images/hippocampus_260.nii.gz (35, 53, 29)\n",
      "/data/TrainingSet/images/hippocampus_171.nii.gz (35, 56, 28)\n",
      "/data/TrainingSet/images/hippocampus_296.nii.gz (35, 54, 35)\n",
      "/data/TrainingSet/images/hippocampus_142.nii.gz (38, 43, 41)\n",
      "/data/TrainingSet/images/hippocampus_375.nii.gz (32, 54, 34)\n",
      "/data/TrainingSet/images/hippocampus_097.nii.gz (37, 48, 34)\n",
      "/data/TrainingSet/images/hippocampus_064.nii.gz (35, 53, 35)\n",
      "/data/TrainingSet/images/hippocampus_108.nii.gz (36, 53, 37)\n",
      "/data/TrainingSet/images/hippocampus_070.nii.gz (37, 50, 38)\n",
      "/data/TrainingSet/images/hippocampus_329.nii.gz (34, 53, 32)\n",
      "/data/TrainingSet/images/hippocampus_107.nii.gz (35, 55, 34)\n",
      "/data/TrainingSet/images/hippocampus_090.nii.gz (37, 50, 40)\n",
      "/data/TrainingSet/images/hippocampus_092.nii.gz (38, 49, 28)\n",
      "/data/TrainingSet/images/hippocampus_318.nii.gz (37, 51, 33)\n",
      "/data/TrainingSet/images/hippocampus_333.nii.gz (33, 46, 38)\n",
      "/data/TrainingSet/images/hippocampus_123.nii.gz (32, 53, 38)\n",
      "/data/TrainingSet/images/hippocampus_037.nii.gz (34, 51, 32)\n",
      "/data/TrainingSet/images/hippocampus_023.nii.gz (35, 51, 35)\n",
      "/data/TrainingSet/images/hippocampus_330.nii.gz (35, 55, 33)\n",
      "/data/TrainingSet/images/hippocampus_374.nii.gz (38, 48, 39)\n",
      "/data/TrainingSet/images/hippocampus_380.nii.gz (35, 46, 42)\n",
      "/data/TrainingSet/images/hippocampus_056.nii.gz (41, 47, 42)\n",
      "/data/TrainingSet/images/hippocampus_040.nii.gz (36, 52, 37)\n",
      "/data/TrainingSet/images/hippocampus_127.nii.gz (38, 55, 31)\n",
      "/data/TrainingSet/images/hippocampus_163.nii.gz (36, 47, 44)\n",
      "/data/TrainingSet/images/hippocampus_146.nii.gz (36, 51, 32)\n",
      "/data/TrainingSet/images/hippocampus_050.nii.gz (38, 49, 38)\n",
      "/data/TrainingSet/images/hippocampus_279.nii.gz (34, 50, 32)\n",
      "/data/TrainingSet/images/hippocampus_224.nii.gz (37, 48, 37)\n",
      "/data/TrainingSet/images/hippocampus_301.nii.gz (31, 50, 36)\n",
      "/data/TrainingSet/images/hippocampus_160.nii.gz (34, 51, 26)\n",
      "/data/TrainingSet/images/hippocampus_352.nii.gz (38, 51, 35)\n",
      "/data/TrainingSet/images/hippocampus_114.nii.gz (38, 50, 39)\n",
      "/data/TrainingSet/images/hippocampus_089.nii.gz (34, 51, 38)\n",
      "/data/TrainingSet/images/hippocampus_205.nii.gz (32, 47, 32)\n",
      "/data/TrainingSet/images/hippocampus_026.nii.gz (36, 50, 36)\n",
      "/data/TrainingSet/images/hippocampus_225.nii.gz (33, 53, 26)\n",
      "/data/TrainingSet/images/hippocampus_295.nii.gz (35, 53, 36)\n",
      "/data/TrainingSet/images/hippocampus_045.nii.gz (36, 48, 37)\n",
      "/data/TrainingSet/images/hippocampus_390.nii.gz (38, 51, 33)\n",
      "/data/TrainingSet/images/hippocampus_075.nii.gz (32, 47, 41)\n",
      "/data/TrainingSet/images/hippocampus_197.nii.gz (38, 51, 31)\n",
      "/data/TrainingSet/images/hippocampus_087.nii.gz (35, 55, 32)\n",
      "/data/TrainingSet/images/hippocampus_370.nii.gz (35, 50, 36)\n",
      "/data/TrainingSet/images/hippocampus_336.nii.gz (34, 47, 43)\n",
      "/data/TrainingSet/images/hippocampus_145.nii.gz (36, 53, 33)\n",
      "/data/TrainingSet/images/hippocampus_035.nii.gz (35, 47, 37)\n",
      "/data/TrainingSet/images/hippocampus_195.nii.gz (33, 53, 28)\n",
      "/data/TrainingSet/images/hippocampus_385.nii.gz (35, 48, 40)\n",
      "/data/TrainingSet/images/hippocampus_189.nii.gz (35, 53, 30)\n",
      "/data/TrainingSet/images/hippocampus_060.nii.gz (39, 52, 31)\n",
      "/data/TrainingSet/images/hippocampus_132.nii.gz (36, 50, 40)\n",
      "/data/TrainingSet/images/hippocampus_361.nii.gz (36, 50, 33)\n",
      "/data/TrainingSet/images/hippocampus_174.nii.gz (37, 55, 34)\n",
      "/data/TrainingSet/images/hippocampus_150.nii.gz (37, 49, 34)\n",
      "/data/TrainingSet/images/hippocampus_094.nii.gz (38, 50, 38)\n",
      "/data/TrainingSet/images/hippocampus_316.nii.gz (37, 51, 33)\n",
      "/data/TrainingSet/images/hippocampus_345.nii.gz (32, 49, 30)\n",
      "/data/TrainingSet/images/hippocampus_308.nii.gz (38, 48, 40)\n",
      "/data/TrainingSet/images/hippocampus_250.nii.gz (35, 51, 36)\n",
      "/data/TrainingSet/images/hippocampus_245.nii.gz (35, 48, 42)\n",
      "/data/TrainingSet/images/hippocampus_105.nii.gz (33, 47, 37)\n",
      "/data/TrainingSet/images/hippocampus_039.nii.gz (34, 53, 34)\n",
      "/data/TrainingSet/images/hippocampus_372.nii.gz (36, 50, 34)\n",
      "/data/TrainingSet/images/hippocampus_003.nii.gz (34, 52, 35)\n",
      "/data/TrainingSet/images/hippocampus_259.nii.gz (33, 51, 28)\n",
      "/data/TrainingSet/images/hippocampus_340.nii.gz (35, 46, 38)\n",
      "/data/TrainingSet/images/hippocampus_219.nii.gz (37, 45, 39)\n",
      "/data/TrainingSet/images/hippocampus_302.nii.gz (35, 46, 39)\n",
      "/data/TrainingSet/images/hippocampus_366.nii.gz (37, 47, 34)\n",
      "/data/TrainingSet/images/hippocampus_025.nii.gz (35, 48, 35)\n",
      "/data/TrainingSet/images/hippocampus_019.nii.gz (36, 47, 41)\n",
      "/data/TrainingSet/images/hippocampus_109.nii.gz (36, 49, 36)\n",
      "/data/TrainingSet/images/hippocampus_299.nii.gz (32, 54, 34)\n",
      "/data/TrainingSet/images/hippocampus_155.nii.gz (34, 53, 37)\n",
      "/data/TrainingSet/images/hippocampus_381.nii.gz (33, 49, 37)\n",
      "/data/TrainingSet/images/hippocampus_057.nii.gz (35, 51, 34)\n",
      "/data/TrainingSet/images/hippocampus_294.nii.gz (35, 44, 44)\n",
      "/data/TrainingSet/images/hippocampus_033.nii.gz (33, 48, 38)\n",
      "/data/TrainingSet/images/hippocampus_373.nii.gz (34, 49, 35)\n",
      "/data/TrainingSet/images/hippocampus_232.nii.gz (36, 44, 43)\n",
      "/data/TrainingSet/images/hippocampus_166.nii.gz (36, 49, 31)\n",
      "/data/TrainingSet/images/hippocampus_305.nii.gz (34, 49, 30)\n",
      "/data/TrainingSet/images/hippocampus_233.nii.gz (33, 51, 37)\n",
      "/data/TrainingSet/images/hippocampus_249.nii.gz (32, 52, 34)\n",
      "/data/TrainingSet/images/hippocampus_203.nii.gz (34, 49, 38)\n",
      "/data/TrainingSet/images/hippocampus_393.nii.gz (36, 51, 31)\n",
      "/data/TrainingSet/images/hippocampus_251.nii.gz (36, 58, 28)\n",
      "/data/TrainingSet/images/hippocampus_341.nii.gz (34, 48, 35)\n",
      "/data/TrainingSet/images/hippocampus_287.nii.gz (37, 50, 39)\n",
      "/data/TrainingSet/images/hippocampus_126.nii.gz (39, 44, 43)\n",
      "/data/TrainingSet/images/hippocampus_130.nii.gz (35, 49, 40)\n",
      "/data/TrainingSet/images/hippocampus_158.nii.gz (38, 52, 36)\n",
      "/data/TrainingSet/images/hippocampus_149.nii.gz (33, 49, 32)\n",
      "/data/TrainingSet/images/hippocampus_190.nii.gz (37, 52, 30)\n",
      "/data/TrainingSet/images/hippocampus_084.nii.gz (34, 52, 37)\n",
      "/data/TrainingSet/images/hippocampus_269.nii.gz (35, 49, 37)\n",
      "/data/TrainingSet/images/hippocampus_257.nii.gz (34, 51, 33)\n",
      "/data/TrainingSet/images/hippocampus_067.nii.gz (36, 42, 41)\n",
      "/data/TrainingSet/images/hippocampus_095.nii.gz (34, 49, 39)\n",
      "/data/TrainingSet/images/hippocampus_298.nii.gz (37, 50, 33)\n",
      "/data/TrainingSet/images/hippocampus_387.nii.gz (33, 51, 32)\n",
      "/data/TrainingSet/images/hippocampus_252.nii.gz (37, 55, 26)\n",
      "/data/TrainingSet/images/hippocampus_106.nii.gz (34, 46, 38)\n",
      "/data/TrainingSet/images/hippocampus_004.nii.gz (36, 52, 38)\n",
      "/data/TrainingSet/images/hippocampus_235.nii.gz (37, 58, 35)\n",
      "/data/TrainingSet/images/hippocampus_378.nii.gz (35, 52, 34)\n",
      "/data/TrainingSet/images/hippocampus_194.nii.gz (35, 50, 30)\n",
      "/data/TrainingSet/images/hippocampus_093.nii.gz (34, 53, 37)\n",
      "/data/TrainingSet/images/hippocampus_017.nii.gz (35, 48, 32)\n",
      "/data/TrainingSet/images/hippocampus_367.nii.gz (36, 57, 37)\n",
      "/data/TrainingSet/images/hippocampus_185.nii.gz (35, 49, 33)\n",
      "/data/TrainingSet/images/hippocampus_321.nii.gz (34, 46, 34)\n",
      "/data/TrainingSet/images/hippocampus_024.nii.gz (38, 52, 33)\n",
      "/data/TrainingSet/images/hippocampus_041.nii.gz (36, 51, 34)\n",
      "/data/TrainingSet/images/hippocampus_162.nii.gz (38, 51, 37)\n",
      "/data/TrainingSet/images/hippocampus_138.nii.gz (32, 46, 42)\n",
      "/data/TrainingSet/images/hippocampus_243.nii.gz (34, 53, 24)\n",
      "/data/TrainingSet/images/hippocampus_338.nii.gz (37, 43, 43)\n",
      "/data/TrainingSet/images/hippocampus_048.nii.gz (38, 52, 29)\n",
      "/data/TrainingSet/images/hippocampus_331.nii.gz (35, 52, 33)\n",
      "/data/TrainingSet/images/hippocampus_334.nii.gz (34, 47, 36)\n",
      "/data/TrainingSet/images/hippocampus_217.nii.gz (38, 53, 27)\n",
      "/data/TrainingSet/images/hippocampus_282.nii.gz (37, 52, 32)\n",
      "/data/TrainingSet/images/hippocampus_228.nii.gz (37, 48, 36)\n",
      "/data/TrainingSet/images/hippocampus_337.nii.gz (33, 44, 41)\n",
      "/data/TrainingSet/images/hippocampus_368.nii.gz (38, 55, 40)\n",
      "/data/TrainingSet/images/hippocampus_226.nii.gz (32, 51, 28)\n",
      "/data/TrainingSet/images/hippocampus_058.nii.gz (34, 53, 36)\n"
     ]
    },
    {
     "name": "stdout",
     "output_type": "stream",
     "text": [
      "/data/TrainingSet/images/hippocampus_014.nii.gz (39, 50, 40)\n",
      "/data/TrainingSet/images/hippocampus_394.nii.gz (36, 52, 32)\n",
      "/data/TrainingSet/images/hippocampus_088.nii.gz (40, 52, 35)\n",
      "/data/TrainingSet/images/hippocampus_309.nii.gz (34, 52, 38)\n",
      "/data/TrainingSet/images/hippocampus_091.nii.gz (36, 51, 29)\n",
      "/data/TrainingSet/images/hippocampus_036.nii.gz (36, 47, 39)\n",
      "/data/TrainingSet/images/hippocampus_007.nii.gz (34, 47, 40)\n",
      "/data/TrainingSet/images/hippocampus_288.nii.gz (38, 50, 42)\n",
      "/data/TrainingSet/images/hippocampus_216.nii.gz (32, 49, 36)\n",
      "/data/TrainingSet/images/hippocampus_248.nii.gz (36, 50, 38)\n",
      "/data/TrainingSet/images/hippocampus_227.nii.gz (36, 47, 36)\n",
      "/data/TrainingSet/images/hippocampus_332.nii.gz (35, 52, 33)\n",
      "/data/TrainingSet/images/hippocampus_099.nii.gz (33, 52, 27)\n",
      "/data/TrainingSet/images/hippocampus_234.nii.gz (38, 49, 36)\n",
      "/data/TrainingSet/images/hippocampus_052.nii.gz (34, 52, 40)\n",
      "/data/TrainingSet/images/hippocampus_199.nii.gz (37, 52, 26)\n",
      "/data/TrainingSet/images/hippocampus_169.nii.gz (36, 45, 39)\n",
      "/data/TrainingSet/images/hippocampus_280.nii.gz (37, 47, 32)\n",
      "/data/TrainingSet/images/hippocampus_020.nii.gz (36, 46, 43)\n",
      "/data/TrainingSet/images/hippocampus_265.nii.gz (31, 54, 34)\n",
      "/data/TrainingSet/images/hippocampus_135.nii.gz (32, 49, 38)\n",
      "/data/TrainingSet/images/hippocampus_212.nii.gz (35, 56, 34)\n",
      "/data/TrainingSet/images/hippocampus_175.nii.gz (33, 47, 35)\n",
      "/data/TrainingSet/images/hippocampus_133.nii.gz (39, 41, 42)\n",
      "/data/TrainingSet/images/hippocampus_006.nii.gz (35, 52, 34)\n",
      "/data/TrainingSet/images/hippocampus_015.nii.gz (42, 51, 28)\n",
      "/data/TrainingSet/images/hippocampus_360.nii.gz (34, 49, 37)\n",
      "/data/TrainingSet/images/hippocampus_322.nii.gz (38, 47, 37)\n",
      "/data/TrainingSet/images/hippocampus_101.nii.gz (36, 52, 32)\n",
      "/data/TrainingSet/images/hippocampus_144.nii.gz (34, 45, 43)\n",
      "/data/TrainingSet/images/hippocampus_311.nii.gz (37, 49, 37)\n",
      "/data/TrainingSet/images/hippocampus_238.nii.gz (37, 56, 36)\n",
      "/data/TrainingSet/images/hippocampus_001.nii.gz (35, 51, 35)\n",
      "/data/TrainingSet/images/hippocampus_261.nii.gz (36, 58, 33)\n",
      "/data/TrainingSet/images/hippocampus_207.nii.gz (35, 53, 33)\n",
      "/data/TrainingSet/images/hippocampus_184.nii.gz (37, 51, 33)\n",
      "/data/TrainingSet/images/hippocampus_044.nii.gz (38, 48, 33)\n",
      "/data/TrainingSet/images/hippocampus_386.nii.gz (37, 45, 40)\n",
      "/data/TrainingSet/images/hippocampus_290.nii.gz (35, 49, 40)\n",
      "/data/TrainingSet/images/hippocampus_310.nii.gz (35, 52, 38)\n",
      "/data/TrainingSet/images/hippocampus_148.nii.gz (34, 48, 32)\n",
      "/data/TrainingSet/images/hippocampus_118.nii.gz (37, 52, 33)\n",
      "/data/TrainingSet/images/hippocampus_231.nii.gz (33, 47, 42)\n",
      "/data/TrainingSet/images/hippocampus_178.nii.gz (35, 44, 41)\n",
      "/data/TrainingSet/images/hippocampus_264.nii.gz (38, 51, 37)\n",
      "/data/TrainingSet/images/hippocampus_358.nii.gz (35, 50, 34)\n",
      "/data/TrainingSet/images/hippocampus_276.nii.gz (35, 50, 33)\n",
      "/data/TrainingSet/images/hippocampus_363.nii.gz (38, 52, 35)\n",
      "/data/TrainingSet/images/hippocampus_193.nii.gz (33, 50, 29)\n",
      "/data/TrainingSet/images/hippocampus_204.nii.gz (36, 48, 39)\n",
      "/data/TrainingSet/images/hippocampus_389.nii.gz (34, 49, 32)\n",
      "/data/TrainingSet/images/hippocampus_343.nii.gz (32, 45, 38)\n",
      "/data/TrainingSet/images/hippocampus_230.nii.gz (34, 49, 37)\n",
      "/data/TrainingSet/images/hippocampus_350.nii.gz (35, 49, 34)\n",
      "/data/TrainingSet/images/hippocampus_125.nii.gz (43, 42, 39)\n",
      "/data/TrainingSet/images/hippocampus_051.nii.gz (33, 54, 39)\n",
      "/data/TrainingSet/images/hippocampus_304.nii.gz (36, 48, 38)\n",
      "/data/TrainingSet/images/hippocampus_188.nii.gz (37, 54, 36)\n",
      "/data/TrainingSet/images/hippocampus_143.nii.gz (32, 45, 41)\n",
      "/data/TrainingSet/images/hippocampus_353.nii.gz (32, 51, 31)\n",
      "/data/TrainingSet/images/hippocampus_065.nii.gz (39, 52, 37)\n",
      "/data/TrainingSet/images/hippocampus_104.nii.gz (35, 53, 39)\n",
      "/data/TrainingSet/images/hippocampus_351.nii.gz (35, 51, 35)\n",
      "/data/TrainingSet/images/hippocampus_008.nii.gz (36, 48, 40)\n",
      "/data/TrainingSet/images/hippocampus_281.nii.gz (512, 512, 31)\n",
      "/data/TrainingSet/images/hippocampus_317.nii.gz (33, 51, 34)\n",
      "/data/TrainingSet/images/hippocampus_236.nii.gz (37, 57, 35)\n",
      "/data/TrainingSet/images/hippocampus_170.nii.gz (34, 48, 40)\n",
      "/data/TrainingSet/images/hippocampus_077.nii.gz (35, 47, 45)\n",
      "/data/TrainingSet/images/hippocampus_173.nii.gz (35, 53, 32)\n",
      "/data/TrainingSet/images/hippocampus_049.nii.gz (35, 51, 36)\n",
      "/data/TrainingSet/images/hippocampus_292.nii.gz (38, 52, 33)\n",
      "/data/TrainingSet/images/hippocampus_229.nii.gz (33, 50, 35)\n",
      "/data/TrainingSet/images/hippocampus_335.nii.gz (32, 47, 41)\n",
      "/data/TrainingSet/images/hippocampus_253.nii.gz (34, 51, 31)\n",
      "/data/TrainingSet/images/hippocampus_263.nii.gz (36, 51, 35)\n",
      "/data/TrainingSet/images/hippocampus_314.nii.gz (37, 53, 33)\n",
      "/data/TrainingSet/images/hippocampus_355.nii.gz (33, 47, 38)\n",
      "/data/TrainingSet/images/hippocampus_221.nii.gz (32, 48, 34)\n",
      "/data/TrainingSet/images/hippocampus_320.nii.gz (33, 47, 34)\n",
      "/data/TrainingSet/images/hippocampus_011.nii.gz (36, 50, 31)\n",
      "/data/TrainingSet/images/hippocampus_098.nii.gz (37, 48, 34)\n",
      "/data/TrainingSet/images/hippocampus_161.nii.gz (35, 51, 36)\n",
      "/data/TrainingSet/images/hippocampus_102.nii.gz (36, 55, 32)\n",
      "/data/TrainingSet/images/hippocampus_154.nii.gz (35, 46, 42)\n",
      "/data/TrainingSet/images/hippocampus_157.nii.gz (36, 51, 35)\n",
      "/data/TrainingSet/images/hippocampus_274.nii.gz (35, 40, 40)\n",
      "/data/TrainingSet/images/hippocampus_327.nii.gz (36, 54, 27)\n",
      "/data/TrainingSet/images/hippocampus_297.nii.gz (34, 51, 30)\n",
      "/data/TrainingSet/images/hippocampus_215.nii.gz (35, 49, 33)\n",
      "/data/TrainingSet/images/hippocampus_074.nii.gz (37, 47, 42)\n",
      "/data/TrainingSet/images/hippocampus_242.nii.gz (38, 52, 34)\n",
      "/data/TrainingSet/images/hippocampus_319.nii.gz (33, 48, 34)\n",
      "/data/TrainingSet/images/hippocampus_046.nii.gz (36, 49, 38)\n",
      "/data/TrainingSet/images/hippocampus_034.nii.gz (36, 49, 40)\n",
      "/data/TrainingSet/images/hippocampus_223.nii.gz (35, 52, 37)\n",
      "/data/TrainingSet/images/hippocampus_328.nii.gz (38, 54, 30)\n",
      "/data/TrainingSet/images/hippocampus_038.nii.gz (37, 51, 35)\n",
      "/data/TrainingSet/images/hippocampus_180.nii.gz (37, 45, 36)\n",
      "/data/TrainingSet/images/hippocampus_220.nii.gz (39, 45, 40)\n",
      "/data/TrainingSet/images/hippocampus_383.nii.gz (33, 55, 29)\n",
      "/data/TrainingSet/images/hippocampus_244.nii.gz (38, 53, 30)\n",
      "/data/TrainingSet/images/hippocampus_277.nii.gz (33, 59, 29)\n",
      "/data/TrainingSet/images/hippocampus_083.nii.gz (33, 52, 37)\n",
      "/data/TrainingSet/images/hippocampus_010.nii.gz (512, 512, 241)\n",
      "/data/TrainingSet/images/hippocampus_042.nii.gz (37, 52, 34)\n",
      "/data/TrainingSet/images/hippocampus_349.nii.gz (34, 50, 34)\n",
      "/data/TrainingSet/images/hippocampus_300.nii.gz (34, 53, 35)\n",
      "/data/TrainingSet/images/hippocampus_164.nii.gz (41, 48, 47)\n",
      "/data/TrainingSet/images/hippocampus_303.nii.gz (35, 48, 38)\n",
      "/data/TrainingSet/images/hippocampus_326.nii.gz (36, 49, 41)\n",
      "/data/TrainingSet/images/hippocampus_124.nii.gz (35, 55, 41)\n",
      "/data/TrainingSet/images/hippocampus_268.nii.gz (34, 51, 37)\n",
      "/data/TrainingSet/images/hippocampus_222.nii.gz (34, 49, 36)\n",
      "/data/TrainingSet/images/hippocampus_053.nii.gz (37, 51, 35)\n",
      "/data/TrainingSet/images/hippocampus_172.nii.gz (34, 56, 31)\n",
      "/data/TrainingSet/images/hippocampus_156.nii.gz (36, 52, 36)\n",
      "/data/TrainingSet/images/hippocampus_136.nii.gz (34, 49, 41)\n",
      "/data/TrainingSet/images/hippocampus_177.nii.gz (33, 44, 40)\n",
      "/data/TrainingSet/images/hippocampus_181.nii.gz (33, 49, 40)\n",
      "/data/TrainingSet/images/hippocampus_354.nii.gz (36, 50, 32)\n",
      "/data/TrainingSet/images/hippocampus_359.nii.gz (35, 49, 35)\n",
      "/data/TrainingSet/images/hippocampus_141.nii.gz (33, 44, 42)\n",
      "/data/TrainingSet/images/hippocampus_356.nii.gz (36, 51, 37)\n",
      "/data/TrainingSet/images/hippocampus_325.nii.gz (35, 51, 40)\n",
      "/data/TrainingSet/images/hippocampus_210.nii.gz (34, 48, 40)\n"
     ]
    }
   ],
   "source": [
    "# Nibabel can present your image data as a Numpy array by calling the method get_fdata()\n",
    "# The array will contain a multi-dimensional Numpy array with numerical values representing voxel intensities. \n",
    "# In our case, images and labels are 3-dimensional, so get_fdata will return a 3-dimensional array. You can verify this\n",
    "# by accessing the .shape attribute. What are the dimensions of the input arrays?\n",
    "\n",
    "for img in imgs: \n",
    "    try: \n",
    "        print(img, nib.load(img).get_fdata().shape)\n",
    "    except:\n",
    "        print(\"Img unloadable\")\n",
    "\n",
    "# /data/TrainingSet/images/hippocampus_010.nii.gz (512, 512, 241)\n",
    "# /data/TrainingSet/images/hippocampus_281.nii.gz (512, 512, 31)"
   ]
  },
  {
   "cell_type": "code",
   "execution_count": 10,
   "metadata": {},
   "outputs": [
    {
     "data": {
      "image/png": "[encoded data removed]",
      "text/plain": [
       "<Figure size 864x864 with 12 Axes>"
      ]
     },
     "metadata": {
      "needs_background": "light"
     },
     "output_type": "display_data"
    }
   ],
   "source": [
    "# TASK: using matplotlib, visualize a few slices from the dataset, along with their labels. \n",
    "# You can adjust plot sizes like so if you find them too small:\n",
    "# plt.rcParams[\"figure.figsize\"] = (10,10)\n",
    "\n",
    "\n",
    "# choose something in the middle\n",
    "z_pos = 19 \n",
    "x_pos = z_pos\n",
    "y_pos = z_pos\n",
    "\n",
    "# axial\n",
    "img1, img2 = img_data[:, :, z_pos], lbl_data[:, :, z_pos]\n",
    "\n",
    "# sagittal \n",
    "img3, img4 = img_data[x_pos, :, :], lbl_data[x_pos, :, :]\n",
    "\n",
    "# coronal \n",
    "img5, img6 = img_data[:, y_pos, :], lbl_data[:, y_pos, :]\n",
    "\n",
    "fig = plt.figure(figsize = (12, 12))\n",
    "\n",
    "grid = ImageGrid(fig, 111, \n",
    "                nrows_ncols = (3, 2),\n",
    "                axes_pad=0.2)\n",
    "\n",
    "for ax, im in zip(grid, [img1, img2, img3, img4, img5, img6]):\n",
    "    ax.imshow(im)\n",
    "    \n"
   ]
  },
  {
   "cell_type": "code",
   "execution_count": 11,
   "metadata": {
    "scrolled": true
   },
   "outputs": [
    {
     "data": {
      "text/plain": [
       "<matplotlib.image.AxesImage at 0x7fc51de6b130>"
      ]
     },
     "execution_count": 11,
     "metadata": {},
     "output_type": "execute_result"
    },
    {
     "data": {
      "image/png": "[encoded data removed]",
      "text/plain": [
       "<Figure size 432x288 with 1 Axes>"
      ]
     },
     "metadata": {
      "needs_background": "light"
     },
     "output_type": "display_data"
    }
   ],
   "source": [
    "# Overlay img and the label\n",
    "# idea from stackoverflow.com/questions/31877353 post\n",
    "back = img_data[:, :, z_pos]\n",
    "front = lbl_data[:, :, z_pos]\n",
    "plt.imshow(back, cmap = 'gray')\n",
    "plt.imshow(front, cmap='jet', alpha=0.7)"
   ]
  },
  {
   "cell_type": "markdown",
   "metadata": {},
   "source": [
    "Load volume into 3D Slicer to validate that your visualization is correct and get a feel for the shape of structures.Try to get a visualization like the one below (hint: while Slicer documentation is not particularly great, there are plenty of YouTube videos available! Just look it up on YouTube if you are not sure how to do something)\n",
    "\n",
    "![3D slicer](img/Slicer.png)"
   ]
  },
  {
   "cell_type": "code",
   "execution_count": 12,
   "metadata": {},
   "outputs": [],
   "source": [
    "# Stand out suggestion: use one of the simple Volume Rendering algorithms that we've\n",
    "# implemented in one of our earlier lessons to visualize some of these volumes"
   ]
  },
  {
   "cell_type": "markdown",
   "metadata": {},
   "source": [
    "## Looking at single image data\n",
    "In this section we will look closer at the NIFTI representation of our volumes. In order to measure the physical volume of hippocampi, we need to understand the relationship between the sizes of our voxels and the physical world."
   ]
  },
  {
   "cell_type": "code",
   "execution_count": 13,
   "metadata": {
    "scrolled": true
   },
   "outputs": [
    {
     "name": "stdout",
     "output_type": "stream",
     "text": [
      "Our Image format: <class 'nibabel.nifti1.Nifti1Header'>\n"
     ]
    }
   ],
   "source": [
    "# Nibabel supports many imaging formats, NIFTI being just one of them. I told you that \n",
    "# our images are in NIFTI, but you should confirm if this is indeed the format \n",
    "# that we are dealing with\n",
    "\n",
    "# TASK: using .header_class attribute - what is the format of our images?\n",
    "img = nib.load(imgs[30])\n",
    "lbl = nib.load(lbls[30])\n",
    "\n",
    "img_data = img.get_fdata()\n",
    "lbl_data = lbl.get_fdata()\n",
    "\n",
    "img_header = img.header\n",
    "# print(img_header)\n",
    "# print(f'Our Image format: {img_header}')\n",
    "print(f'Our Image format: {img.header_class}')"
   ]
  },
  {
   "cell_type": "code",
   "execution_count": 14,
   "metadata": {},
   "outputs": [
    {
     "name": "stdout",
     "output_type": "stream",
     "text": [
      "<class 'nibabel.nifti1.Nifti1Header'> object, endian='<'\n",
      "sizeof_hdr      : 348\n",
      "data_type       : b''\n",
      "db_name         : b''\n",
      "extents         : 0\n",
      "session_error   : 0\n",
      "regular         : b'r'\n",
      "dim_info        : 0\n",
      "dim             : [ 3 36 52 37  1  1  1  1]\n",
      "intent_p1       : 0.0\n",
      "intent_p2       : 0.0\n",
      "intent_p3       : 0.0\n",
      "intent_code     : none\n",
      "datatype        : float32\n",
      "bitpix          : 32\n",
      "slice_start     : 0\n",
      "pixdim          : [1. 1. 1. 1. 1. 0. 0. 0.]\n",
      "vox_offset      : 0.0\n",
      "scl_slope       : nan\n",
      "scl_inter       : nan\n",
      "slice_end       : 0\n",
      "slice_code      : unknown\n",
      "xyzt_units      : 10\n",
      "cal_max         : 0.0\n",
      "cal_min         : 0.0\n",
      "slice_duration  : 0.0\n",
      "toffset         : 0.0\n",
      "glmax           : 0\n",
      "glmin           : 0\n",
      "descrip         : b'5.0.10'\n",
      "aux_file        : b'none'\n",
      "qform_code      : scanner\n",
      "sform_code      : scanner\n",
      "quatern_b       : 0.0\n",
      "quatern_c       : 0.0\n",
      "quatern_d       : 0.0\n",
      "qoffset_x       : 0.0\n",
      "qoffset_y       : 0.0\n",
      "qoffset_z       : 0.0\n",
      "srow_x          : [1. 0. 0. 0.]\n",
      "srow_y          : [0. 1. 0. 0.]\n",
      "srow_z          : [0. 0. 1. 0.]\n",
      "intent_name     : b''\n",
      "magic           : b'n+1'\n"
     ]
    }
   ],
   "source": [
    "print(img_header)"
   ]
  },
  {
   "cell_type": "markdown",
   "metadata": {},
   "source": [
    "Further down we will be inspecting .header attribute that provides access to NIFTI metadata. You can use this resource as a reference for various fields: https://brainder.org/2012/09/23/the-nifti-file-format/"
   ]
  },
  {
   "cell_type": "code",
   "execution_count": 15,
   "metadata": {},
   "outputs": [
    {
     "name": "stdout",
     "output_type": "stream",
     "text": [
      "32\n"
     ]
    }
   ],
   "source": [
    "# TASK: How many bits per pixel are used?\n",
    "print(img_header['bitpix'])"
   ]
  },
  {
   "cell_type": "code",
   "execution_count": 16,
   "metadata": {},
   "outputs": [
    {
     "name": "stdout",
     "output_type": "stream",
     "text": [
      "10\n",
      "[0 0 0 0 1 0 1 0]\n"
     ]
    }
   ],
   "source": [
    "# TASK: What are the units of measurement?\n",
    "xyzt = img_header['xyzt_units']\n",
    "print(xyzt)\n",
    "\n",
    "print(np.unpackbits(xyzt).view(np.uint8))\n",
    "# not sure how to interpret this number, 10 "
   ]
  },
  {
   "cell_type": "code",
   "execution_count": 17,
   "metadata": {},
   "outputs": [
    {
     "name": "stdout",
     "output_type": "stream",
     "text": [
      "grid spacing: [1. 1. 1. 1. 1. 0. 0. 0.] regular\n"
     ]
    }
   ],
   "source": [
    "# TASK: Do we have a regular grid? What are grid spacings?\n",
    "\n",
    "# Ref: https://nipy.org/nibabel/coordinate_systems.html\n",
    "\n",
    "print(f\"grid spacing: {img_header['pixdim']} regular\")"
   ]
  },
  {
   "cell_type": "code",
   "execution_count": 18,
   "metadata": {},
   "outputs": [
    {
     "name": "stdout",
     "output_type": "stream",
     "text": [
      "Sagittal dim of slices\n",
      "36\n",
      "Coronal dim of slices\n",
      "52\n",
      "Axial dim of slices\n",
      "37\n"
     ]
    }
   ],
   "source": [
    "# TASK: What dimensions represent axial, sagittal, and coronal slices? How do you know?\n",
    "\n",
    "# We can look at the shape of the image \n",
    "\n",
    "print(\"Sagittal dim of slices\")\n",
    "print(img_data.shape[0])\n",
    "\n",
    "print(\"Coronal dim of slices\")\n",
    "print(img_data.shape[1])\n",
    "\n",
    "print(\"Axial dim of slices\")\n",
    "print(img_data.shape[2])"
   ]
  },
  {
   "cell_type": "code",
   "execution_count": 19,
   "metadata": {},
   "outputs": [
    {
     "name": "stdout",
     "output_type": "stream",
     "text": [
      "volume of hippocampus:  1.0\n"
     ]
    },
    {
     "data": {
      "text/plain": [
       "3445.0"
      ]
     },
     "execution_count": 19,
     "metadata": {},
     "output_type": "execute_result"
    }
   ],
   "source": [
    "# By now you should have enough information to decide what are dimensions of a single voxel\n",
    "# TASK: Compute the volume (in mm³) of a hippocampus using one of the labels you've loaded. \n",
    "# You should get a number between ~2200 and ~4500\n",
    "\n",
    "# using the response of Udacity question/responses 229063 \n",
    "\n",
    "temp = img_header['pixdim']\n",
    "vol = temp[1] * temp[2] * temp[3]\n",
    "print(\"volume of hippocampus: \", vol)\n",
    "\n",
    "# vol = 1 because of unit grid spacing \n",
    "np.sum(lbl_data > 0) * vol"
   ]
  },
  {
   "cell_type": "markdown",
   "metadata": {},
   "source": [
    "## Plotting some charts"
   ]
  },
  {
   "cell_type": "code",
   "execution_count": 21,
   "metadata": {},
   "outputs": [],
   "source": [
    "# TASK: Plot a histogram of all volumes that we have in our dataset and see how \n",
    "# our dataset measures against a slice of a normal population represented by the \n",
    "# chart below.\n",
    "\n",
    "def hvol(img_path): \n",
    "    h = nib.load(img_path).header\n",
    "    v_vol = h['pixdim'][1] * h['pixdim'][2] * h['pixdim'][3]\n",
    "    lbl_path = img_path.replace(\"images\", \"labels\")\n",
    "    l = nib.load(lbl_path)\n",
    "    tv = np.sum(l.get_fdata() > 0) * v_vol\n",
    "    return tv"
   ]
  },
  {
   "cell_type": "code",
   "execution_count": 22,
   "metadata": {},
   "outputs": [
    {
     "name": "stdout",
     "output_type": "stream",
     "text": [
      "/data/TrainingSet/images/hippocampus_260.nii.gz\n"
     ]
    },
    {
     "data": {
      "text/plain": [
       "3097.0"
      ]
     },
     "execution_count": 22,
     "metadata": {},
     "output_type": "execute_result"
    }
   ],
   "source": [
    "# test the function using one image \n",
    "print(imgs[8])\n",
    "hvol(imgs[8])"
   ]
  },
  {
   "cell_type": "markdown",
   "metadata": {},
   "source": [
    "### let us remove `hippocampus_118_nii.gz` because of missing label. \n",
    "\n",
    "Please see cell # 6 for detailed explanation.  "
   ]
  },
  {
   "cell_type": "code",
   "execution_count": 23,
   "metadata": {},
   "outputs": [],
   "source": [
    "imgs.remove(\"/data/TrainingSet/images/hippocampus_118.nii.gz\")"
   ]
  },
  {
   "cell_type": "code",
   "execution_count": 24,
   "metadata": {},
   "outputs": [
    {
     "data": {
      "image/png": "[encoded data removed]",
      "text/plain": [
       "<Figure size 432x288 with 1 Axes>"
      ]
     },
     "metadata": {
      "needs_background": "light"
     },
     "output_type": "display_data"
    }
   ],
   "source": [
    "vol = [np.sum( nib.load(lbls[i]).get_fdata() > 0) for i in range(len(lbls))]\n",
    "plt.hist(vol, bins=30)\n",
    "plt.title('Distribution of voxel volumes')\n",
    "plt.xlabel(\"Volumes\")\n",
    "plt.show()"
   ]
  },
  {
   "cell_type": "markdown",
   "metadata": {},
   "source": [
    "Note from the figure that most volumes are distributed around 2500-5000. There is a outlier distribution around 20000. Images correspond to this extreme voxel volume should be removed."
   ]
  },
  {
   "cell_type": "markdown",
   "metadata": {},
   "source": [
    "Do you see any outliers? Why do you think it's so (might be not immediately obvious, but it's always a good idea to inspect) outliers closer. If you haven't found the images that do not belong, the histogram may help you."
   ]
  },
  {
   "cell_type": "code",
   "execution_count": 25,
   "metadata": {},
   "outputs": [
    {
     "data": {
      "text/plain": [
       "['/data/TrainingSet/images/hippocampus_281.nii.gz',\n",
       " '/data/TrainingSet/images/hippocampus_010.nii.gz']"
      ]
     },
     "execution_count": 25,
     "metadata": {},
     "output_type": "execute_result"
    }
   ],
   "source": [
    "# find outliers \n",
    "outliers = []\n",
    "\n",
    "for img in imgs: \n",
    "    if (hvol(img) < 2100) or (hvol(img) > 5000): \n",
    "        outliers.append(img)\n",
    "\n",
    "outliers\n",
    "\n"
   ]
  },
  {
   "cell_type": "markdown",
   "metadata": {},
   "source": [
    "In the real world we would have precise information about the ages and conditions of our patients, and understanding how our dataset measures against population norm would be the integral part of clinical validation that we talked about in last lesson. Unfortunately, we do not have this information about this dataset, so we can only guess why it measures the way it is. If you would like to explore further, you can use the [calculator from HippoFit project](http://www.smanohar.com/biobank/calculator.html) to see how our dataset compares against different population slices"
   ]
  },
  {
   "cell_type": "markdown",
   "metadata": {},
   "source": [
    "Did you notice anything odd about the label files? We hope you did! The mask seems to have two classes, labeled with values `1` and `2` respectively. If you visualized sagittal or axial views, you might have gotten a good guess of what those are. Class 1 is the anterior segment of the hippocampus and class 2 is the posterior one. \n",
    "\n",
    "For the purpose of volume calculation we do not care about the distinction, however we will still train our network to differentiate between these two classes and the background"
   ]
  },
  {
   "cell_type": "code",
   "execution_count": 25,
   "metadata": {},
   "outputs": [],
   "source": [
    "# TASK: Copy the clean dataset to the output folder inside section1/out. \n",
    "# You will use it in the next Section\n",
    "\n",
    "out_images_dir = '/home/workspace/section1/out/images'\n",
    "out_labels_dir = '/home/workspace/section1/out/labels'\n",
    "\n",
    "isExist = os.path.exists(out_images_dir)\n",
    "if not isExist: \n",
    "    os.makedirs(out_images_dir)\n",
    "\n",
    "isExist = os.path.exists(out_labels_dir)\n",
    "if not isExist: \n",
    "    os.makedirs(out_labels_dir)"
   ]
  },
  {
   "cell_type": "code",
   "execution_count": 32,
   "metadata": {},
   "outputs": [
    {
     "name": "stdout",
     "output_type": "stream",
     "text": [
      "0\r\n"
     ]
    }
   ],
   "source": [
    "!ls /home/workspace/section1/out/images | wc -l"
   ]
  },
  {
   "cell_type": "code",
   "execution_count": 31,
   "metadata": {},
   "outputs": [
    {
     "name": "stdout",
     "output_type": "stream",
     "text": [
      "0\r\n"
     ]
    }
   ],
   "source": [
    "!ls  /home/workspace/section1/out/labels | wc -l"
   ]
  },
  {
   "cell_type": "code",
   "execution_count": 35,
   "metadata": {},
   "outputs": [
    {
     "data": {
      "text/plain": [
       "'/home/workspace/out/labels'"
      ]
     },
     "execution_count": 35,
     "metadata": {},
     "output_type": "execute_result"
    }
   ],
   "source": [
    "out_labels_dir"
   ]
  },
  {
   "cell_type": "code",
   "execution_count": 38,
   "metadata": {},
   "outputs": [
    {
     "name": "stdout",
     "output_type": "stream",
     "text": [
      "Num of image files in clean dataset: 260\n",
      "Num of label files in clean dataset: 260\n"
     ]
    }
   ],
   "source": [
    "for img in imgs: \n",
    "    if img not in outliers: \n",
    "        shutil.copy(img, out_images_dir)\n",
    "        lbl_path = img.replace(\"images\", \"labels\")\n",
    "        shutil.copy(lbl_path, out_labels_dir)\n",
    "        \n",
    "print(f\"Num of image files in clean dataset: {len(os.listdir(out_images_dir))}\")\n",
    "print(f\"Num of label files in clean dataset: {len(os.listdir(out_labels_dir))}\")"
   ]
  },
  {
   "cell_type": "markdown",
   "metadata": {},
   "source": [
    "## Final remarks\n",
    "\n",
    "Congratulations! You have finished Section 1. \n",
    "\n",
    "In this section you have inspected a dataset of MRI scans and related segmentations, represented as NIFTI files. We have visualized some slices, and understood the layout of the data. We have inspected file headers to understand what how the image dimensions relate to the physical world and we have understood how to measure our volume. We have then inspected dataset for outliers, and have created a clean set that is ready for consumption by our ML algorithm. \n",
    "\n",
    "In the next section you will create training and testing pipelines for a UNet-based machine learning model, run and monitor the execution, and will produce test metrics. This will arm you with all you need to use the model in the clinical context and reason about its performance!"
   ]
  }
 ],
 "metadata": {
  "kernelspec": {
   "display_name": "Python 3",
   "language": "python",
   "name": "python3"
  },
  "language_info": {
   "codemirror_mode": {
    "name": "ipython",
    "version": 3
   },
   "file_extension": ".py",
   "mimetype": "text/x-python",
   "name": "python",
   "nbconvert_exporter": "python",
   "pygments_lexer": "ipython3",
   "version": "3.8.2"
  }
 },
 "nbformat": 4,
 "nbformat_minor": 2
}
