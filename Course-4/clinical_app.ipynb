{
 "cells": [
  {
   "cell_type": "markdown",
   "metadata": {},
   "source": [
    "## Part 2: Clinical Application\n",
    "\n",
    "### Contents\n",
    "Fill out this notebook as part 2 of your final project submission.\n",
    "\n",
    "**You will have to complete the Code (Load Metadata & Compute Resting Heart Rate) and Project Write-up sections.**  \n",
    "\n",
    "- [Code](#Code) is where you will implement some parts of the **pulse rate algorithm** you created and tested in Part 1 and already includes the starter code.\n",
    "  - [Imports](#Imports) - These are the imports needed for Part 2 of the final project. \n",
    "    - [glob](https://docs.python.org/3/library/glob.html)\n",
    "    - [os](https://docs.python.org/3/library/os.html)\n",
    "    - [numpy](https://numpy.org/)\n",
    "    - [pandas](https://pandas.pydata.org/)\n",
    "  - [Load the Dataset](#Load-the-dataset)  \n",
    "  - [Load Metadata](#Load-Metadata)\n",
    "  - [Compute Resting Heart Rate](#Compute-Resting-Heart-Rate)\n",
    "  - [Plot Resting Heart Rate vs. Age Group](#Plot-Resting-Heart-Rate-vs.-Age-Group)\n",
    "- [Project Write-up](#Project-Write-Up) to describe the clinical significance you observe from the **pulse rate algorithm** applied to this dataset, what ways/information that could improve your results, and if we validated a trend known in the science community. \n",
    "\n",
    "### Dataset (CAST)\n",
    "\n",
    "The data from this project comes from the [Cardiac Arrythmia Suppression Trial (CAST)](https://physionet.org/content/crisdb/1.0.0/), which was sponsored by the National Heart, Lung, and Blood Institute (NHLBI). CAST collected 24 hours of heart rate data from ECGs from people who have had a myocardial infarction (MI) within the past two years.[1] This data has been smoothed and resampled to more closely resemble PPG-derived pulse rate data from a wrist wearable.[2]\n",
    "\n",
    "1. **CAST RR Interval Sub-Study Database Citation** - Stein PK, Domitrovich PP, Kleiger RE, Schechtman KB, Rottman JN. Clinical and demographic determinants of heart rate variability in patients post myocardial infarction: insights from the Cardiac Arrhythmia Suppression Trial (CAST). Clin Cardiol 23(3):187-94; 2000 (Mar)\n",
    "2. **Physionet Citation** - Goldberger AL, Amaral LAN, Glass L, Hausdorff JM, Ivanov PCh, Mark RG, Mietus JE, Moody GB, Peng C-K, Stanley HE. PhysioBank, PhysioToolkit, and PhysioNet: Components of a New Research Resource for Complex Physiologic Signals (2003). Circulation. 101(23):e215-e220.\n",
    "\n",
    "-----"
   ]
  },
  {
   "cell_type": "markdown",
   "metadata": {},
   "source": [
    "### Code\n",
    "#### Imports\n",
    "\n",
    "When you implement the functions, you'll only need to you use the packages you've used in the classroom, like [Pandas](https://pandas.pydata.org/) and [Numpy](http://www.numpy.org/). These packages are imported for you here. We recommend you don't import other packages outside of the [Standard Library](https://docs.python.org/3/library/) , otherwise the grader might not be able to run your code."
   ]
  },
  {
   "cell_type": "code",
   "execution_count": 1,
   "metadata": {},
   "outputs": [],
   "source": [
    "import glob\n",
    "import os\n",
    "\n",
    "import numpy as np\n",
    "import pandas as pd\n",
    "import seaborn as sns\n",
    "import matplotlib.pyplot as plt\n"
   ]
  },
  {
   "cell_type": "code",
   "execution_count": 2,
   "metadata": {},
   "outputs": [
    {
     "name": "stdout",
     "output_type": "stream",
     "text": [
      "0.9.0\n"
     ]
    }
   ],
   "source": [
    "print(sns.__version__)"
   ]
  },
  {
   "cell_type": "markdown",
   "metadata": {},
   "source": [
    "#### Load the dataset\n",
    "\n",
    "The dataset is stored as [.npz](https://docs.scipy.org/doc/numpy/reference/generated/numpy.savez.html) files. Each file contains roughly 24 hours of heart rate data in the 'hr' array sampled at 1Hz. The subject ID is the name of the file. You will use these files to compute resting heart rate.\n",
    "\n",
    "Demographics metadata is stored in a file called 'metadata.csv'. This CSV has three columns, one for subject ID, age group, and sex. You will use this file to make the association between resting heart rate and age group for each gender.\n",
    "\n",
    "Find the dataset in `../datasets/crisdb/`"
   ]
  },
  {
   "cell_type": "code",
   "execution_count": 3,
   "metadata": {},
   "outputs": [],
   "source": [
    "hr_filenames = glob.glob('/data/crisdb/*.npz')"
   ]
  },
  {
   "cell_type": "code",
   "execution_count": 4,
   "metadata": {},
   "outputs": [
    {
     "data": {
      "text/plain": [
       "1537"
      ]
     },
     "execution_count": 4,
     "metadata": {},
     "output_type": "execute_result"
    }
   ],
   "source": [
    "len(hr_filenames)"
   ]
  },
  {
   "cell_type": "code",
   "execution_count": 5,
   "metadata": {},
   "outputs": [
    {
     "data": {
      "text/plain": [
       "'/data/crisdb/e190a.npz'"
      ]
     },
     "execution_count": 5,
     "metadata": {},
     "output_type": "execute_result"
    }
   ],
   "source": [
    "hr_filenames[0]"
   ]
  },
  {
   "cell_type": "markdown",
   "metadata": {},
   "source": [
    "Note that, \n",
    "\n",
    "*..Each file contains roughly 24 hours of heart rate data in the 'hr' array sampled at 1Hz.* \n",
    "\n",
    "Not all npz files are of the same length"
   ]
  },
  {
   "cell_type": "code",
   "execution_count": 6,
   "metadata": {},
   "outputs": [
    {
     "data": {
      "text/html": [
       "<div>\n",
       "<style scoped>\n",
       "    .dataframe tbody tr th:only-of-type {\n",
       "        vertical-align: middle;\n",
       "    }\n",
       "\n",
       "    .dataframe tbody tr th {\n",
       "        vertical-align: top;\n",
       "    }\n",
       "\n",
       "    .dataframe thead th {\n",
       "        text-align: right;\n",
       "    }\n",
       "</style>\n",
       "<table border=\"1\" class=\"dataframe\">\n",
       "  <thead>\n",
       "    <tr style=\"text-align: right;\">\n",
       "      <th></th>\n",
       "      <th>0</th>\n",
       "      <th>1</th>\n",
       "      <th>2</th>\n",
       "      <th>3</th>\n",
       "      <th>4</th>\n",
       "      <th>5</th>\n",
       "      <th>6</th>\n",
       "      <th>7</th>\n",
       "      <th>8</th>\n",
       "      <th>9</th>\n",
       "      <th>...</th>\n",
       "      <th>89091</th>\n",
       "      <th>89092</th>\n",
       "      <th>89093</th>\n",
       "      <th>89094</th>\n",
       "      <th>89095</th>\n",
       "      <th>89096</th>\n",
       "      <th>89097</th>\n",
       "      <th>89098</th>\n",
       "      <th>89099</th>\n",
       "      <th>89100</th>\n",
       "    </tr>\n",
       "  </thead>\n",
       "  <tbody>\n",
       "    <tr>\n",
       "      <th>hr</th>\n",
       "      <td>155.167347</td>\n",
       "      <td>165.46338</td>\n",
       "      <td>149.842905</td>\n",
       "      <td>147.746948</td>\n",
       "      <td>144.714268</td>\n",
       "      <td>148.426193</td>\n",
       "      <td>152.094118</td>\n",
       "      <td>198.366407</td>\n",
       "      <td>185.302326</td>\n",
       "      <td>185.302326</td>\n",
       "      <td>...</td>\n",
       "      <td>155.294118</td>\n",
       "      <td>143.348228</td>\n",
       "      <td>189.89011</td>\n",
       "      <td>205.128205</td>\n",
       "      <td>213.333333</td>\n",
       "      <td>205.773552</td>\n",
       "      <td>188.458983</td>\n",
       "      <td>213.333333</td>\n",
       "      <td>216.380952</td>\n",
       "      <td>213.333333</td>\n",
       "    </tr>\n",
       "  </tbody>\n",
       "</table>\n",
       "<p>1 rows × 89101 columns</p>\n",
       "</div>"
      ],
      "text/plain": [
       "         0          1           2           3           4           5      \\\n",
       "hr  155.167347  165.46338  149.842905  147.746948  144.714268  148.426193   \n",
       "\n",
       "         6           7           8           9         ...           89091  \\\n",
       "hr  152.094118  198.366407  185.302326  185.302326     ...      155.294118   \n",
       "\n",
       "         89092      89093       89094       89095       89096       89097  \\\n",
       "hr  143.348228  189.89011  205.128205  213.333333  205.773552  188.458983   \n",
       "\n",
       "         89098       89099       89100  \n",
       "hr  213.333333  216.380952  213.333333  \n",
       "\n",
       "[1 rows x 89101 columns]"
      ]
     },
     "execution_count": 6,
     "metadata": {},
     "output_type": "execute_result"
    }
   ],
   "source": [
    "npz = np.load(hr_filenames[11])\n",
    "\n",
    "df_temp = pd.DataFrame.from_dict({item: npz[item] for item in npz.files}, \n",
    "                           orient='index')\n",
    "df_temp"
   ]
  },
  {
   "cell_type": "code",
   "execution_count": 7,
   "metadata": {
    "scrolled": true
   },
   "outputs": [
    {
     "data": {
      "text/html": [
       "<div>\n",
       "<style scoped>\n",
       "    .dataframe tbody tr th:only-of-type {\n",
       "        vertical-align: middle;\n",
       "    }\n",
       "\n",
       "    .dataframe tbody tr th {\n",
       "        vertical-align: top;\n",
       "    }\n",
       "\n",
       "    .dataframe thead th {\n",
       "        text-align: right;\n",
       "    }\n",
       "</style>\n",
       "<table border=\"1\" class=\"dataframe\">\n",
       "  <thead>\n",
       "    <tr style=\"text-align: right;\">\n",
       "      <th></th>\n",
       "      <th>0</th>\n",
       "      <th>1</th>\n",
       "      <th>2</th>\n",
       "      <th>3</th>\n",
       "      <th>4</th>\n",
       "      <th>5</th>\n",
       "      <th>6</th>\n",
       "      <th>7</th>\n",
       "      <th>8</th>\n",
       "      <th>9</th>\n",
       "      <th>...</th>\n",
       "      <th>86046</th>\n",
       "      <th>86047</th>\n",
       "      <th>86048</th>\n",
       "      <th>86049</th>\n",
       "      <th>86050</th>\n",
       "      <th>86051</th>\n",
       "      <th>86052</th>\n",
       "      <th>86053</th>\n",
       "      <th>86054</th>\n",
       "      <th>86055</th>\n",
       "    </tr>\n",
       "  </thead>\n",
       "  <tbody>\n",
       "    <tr>\n",
       "      <th>hr</th>\n",
       "      <td>87.272727</td>\n",
       "      <td>87.272727</td>\n",
       "      <td>87.272727</td>\n",
       "      <td>87.272727</td>\n",
       "      <td>87.272727</td>\n",
       "      <td>87.272727</td>\n",
       "      <td>87.272727</td>\n",
       "      <td>87.645987</td>\n",
       "      <td>88.275862</td>\n",
       "      <td>88.275862</td>\n",
       "      <td>...</td>\n",
       "      <td>128.629391</td>\n",
       "      <td>134.835574</td>\n",
       "      <td>168.143251</td>\n",
       "      <td>167.272727</td>\n",
       "      <td>164.952308</td>\n",
       "      <td>156.949213</td>\n",
       "      <td>148.946117</td>\n",
       "      <td>140.735076</td>\n",
       "      <td>128.295815</td>\n",
       "      <td>143.203043</td>\n",
       "    </tr>\n",
       "  </tbody>\n",
       "</table>\n",
       "<p>1 rows × 86056 columns</p>\n",
       "</div>"
      ],
      "text/plain": [
       "        0          1          2          3          4          5      \\\n",
       "hr  87.272727  87.272727  87.272727  87.272727  87.272727  87.272727   \n",
       "\n",
       "        6          7          8          9         ...           86046  \\\n",
       "hr  87.272727  87.645987  88.275862  88.275862     ...      128.629391   \n",
       "\n",
       "         86047       86048       86049       86050       86051       86052  \\\n",
       "hr  134.835574  168.143251  167.272727  164.952308  156.949213  148.946117   \n",
       "\n",
       "         86053       86054       86055  \n",
       "hr  140.735076  128.295815  143.203043  \n",
       "\n",
       "[1 rows x 86056 columns]"
      ]
     },
     "execution_count": 7,
     "metadata": {},
     "output_type": "execute_result"
    }
   ],
   "source": [
    "npz = np.load(hr_filenames[1])\n",
    "\n",
    "df_temp = pd.DataFrame.from_dict({item: npz[item] for item in npz.files}, \n",
    "                           orient='index')\n",
    "df_temp"
   ]
  },
  {
   "cell_type": "code",
   "execution_count": 8,
   "metadata": {},
   "outputs": [
    {
     "name": "stdout",
     "output_type": "stream",
     "text": [
      "[  87.27272727   87.27272727   87.27272727 ...,  140.73507623  128.29581481\n",
      "  143.20304267]\n"
     ]
    }
   ],
   "source": [
    "print(np.load(hr_filenames[1])['hr'])"
   ]
  },
  {
   "cell_type": "markdown",
   "metadata": {},
   "source": [
    "#### Load Metadata\n",
    "Load the metadata file into a datastructure that allows for easy lookups from subject ID to age group and sex."
   ]
  },
  {
   "cell_type": "code",
   "execution_count": 9,
   "metadata": {},
   "outputs": [
    {
     "data": {
      "text/html": [
       "<div>\n",
       "<style scoped>\n",
       "    .dataframe tbody tr th:only-of-type {\n",
       "        vertical-align: middle;\n",
       "    }\n",
       "\n",
       "    .dataframe tbody tr th {\n",
       "        vertical-align: top;\n",
       "    }\n",
       "\n",
       "    .dataframe thead th {\n",
       "        text-align: right;\n",
       "    }\n",
       "</style>\n",
       "<table border=\"1\" class=\"dataframe\">\n",
       "  <thead>\n",
       "    <tr style=\"text-align: right;\">\n",
       "      <th></th>\n",
       "      <th>subject</th>\n",
       "      <th>age</th>\n",
       "      <th>sex</th>\n",
       "    </tr>\n",
       "  </thead>\n",
       "  <tbody>\n",
       "    <tr>\n",
       "      <th>0</th>\n",
       "      <td>e198a</td>\n",
       "      <td>20-24</td>\n",
       "      <td>Male</td>\n",
       "    </tr>\n",
       "    <tr>\n",
       "      <th>1</th>\n",
       "      <td>e198b</td>\n",
       "      <td>20-24</td>\n",
       "      <td>Male</td>\n",
       "    </tr>\n",
       "    <tr>\n",
       "      <th>2</th>\n",
       "      <td>e028b</td>\n",
       "      <td>30-34</td>\n",
       "      <td>Male</td>\n",
       "    </tr>\n",
       "    <tr>\n",
       "      <th>3</th>\n",
       "      <td>e028a</td>\n",
       "      <td>30-34</td>\n",
       "      <td>Male</td>\n",
       "    </tr>\n",
       "    <tr>\n",
       "      <th>4</th>\n",
       "      <td>e061b</td>\n",
       "      <td>30-34</td>\n",
       "      <td>Male</td>\n",
       "    </tr>\n",
       "  </tbody>\n",
       "</table>\n",
       "</div>"
      ],
      "text/plain": [
       "  subject    age   sex\n",
       "0   e198a  20-24  Male\n",
       "1   e198b  20-24  Male\n",
       "2   e028b  30-34  Male\n",
       "3   e028a  30-34  Male\n",
       "4   e061b  30-34  Male"
      ]
     },
     "execution_count": 9,
     "metadata": {},
     "output_type": "execute_result"
    }
   ],
   "source": [
    "metadata_filename = '/data/crisdb/metadata.csv'\n",
    "\n",
    "# Load the metadata file into this variable.\n",
    "# with open(metadata_filename, 'r') as f:\n",
    "#     metadata = f.readlines()\n",
    "#     print(metadata)\n",
    "\n",
    "metadata = pd.read_csv(metadata_filename, index_col=None)\n",
    "metadata.head()"
   ]
  },
  {
   "cell_type": "code",
   "execution_count": 10,
   "metadata": {},
   "outputs": [
    {
     "data": {
      "text/html": [
       "<div>\n",
       "<style scoped>\n",
       "    .dataframe tbody tr th:only-of-type {\n",
       "        vertical-align: middle;\n",
       "    }\n",
       "\n",
       "    .dataframe tbody tr th {\n",
       "        vertical-align: top;\n",
       "    }\n",
       "\n",
       "    .dataframe thead th {\n",
       "        text-align: right;\n",
       "    }\n",
       "</style>\n",
       "<table border=\"1\" class=\"dataframe\">\n",
       "  <thead>\n",
       "    <tr style=\"text-align: right;\">\n",
       "      <th></th>\n",
       "      <th>subject</th>\n",
       "      <th>age</th>\n",
       "      <th>sex</th>\n",
       "    </tr>\n",
       "  </thead>\n",
       "  <tbody>\n",
       "    <tr>\n",
       "      <th>count</th>\n",
       "      <td>1543</td>\n",
       "      <td>1543</td>\n",
       "      <td>1543</td>\n",
       "    </tr>\n",
       "    <tr>\n",
       "      <th>unique</th>\n",
       "      <td>1543</td>\n",
       "      <td>11</td>\n",
       "      <td>2</td>\n",
       "    </tr>\n",
       "    <tr>\n",
       "      <th>top</th>\n",
       "      <td>e101a</td>\n",
       "      <td>60-64</td>\n",
       "      <td>Male</td>\n",
       "    </tr>\n",
       "    <tr>\n",
       "      <th>freq</th>\n",
       "      <td>1</td>\n",
       "      <td>313</td>\n",
       "      <td>1266</td>\n",
       "    </tr>\n",
       "  </tbody>\n",
       "</table>\n",
       "</div>"
      ],
      "text/plain": [
       "       subject    age   sex\n",
       "count     1543   1543  1543\n",
       "unique    1543     11     2\n",
       "top      e101a  60-64  Male\n",
       "freq         1    313  1266"
      ]
     },
     "execution_count": 10,
     "metadata": {},
     "output_type": "execute_result"
    }
   ],
   "source": [
    "metadata.describe()"
   ]
  },
  {
   "cell_type": "code",
   "execution_count": 41,
   "metadata": {},
   "outputs": [
    {
     "data": {
      "text/plain": [
       "Male      1266\n",
       "Female     277\n",
       "Name: sex, dtype: int64"
      ]
     },
     "execution_count": 41,
     "metadata": {},
     "output_type": "execute_result"
    }
   ],
   "source": [
    "metadata.sex.value_counts(dropna=False)"
   ]
  },
  {
   "cell_type": "code",
   "execution_count": 39,
   "metadata": {},
   "outputs": [
    {
     "data": {
      "text/plain": [
       "60-64    313\n",
       "65-69    291\n",
       "55-59    261\n",
       "70-74    196\n",
       "50-54    164\n",
       "45-49    124\n",
       "75-79     98\n",
       "40-44     62\n",
       "35-39     28\n",
       "30-34      4\n",
       "20-24      2\n",
       "Name: age, dtype: int64"
      ]
     },
     "execution_count": 39,
     "metadata": {},
     "output_type": "execute_result"
    }
   ],
   "source": [
    "metadata.age.value_counts(dropna=False)"
   ]
  },
  {
   "cell_type": "markdown",
   "metadata": {},
   "source": [
    "### Test the code"
   ]
  },
  {
   "cell_type": "code",
   "execution_count": 13,
   "metadata": {},
   "outputs": [
    {
     "data": {
      "text/plain": [
       "[<matplotlib.lines.Line2D at 0x7f2248691668>]"
      ]
     },
     "execution_count": 13,
     "metadata": {},
     "output_type": "execute_result"
    },
    {
     "data": {
      "image/png": "[encoded data removed]",
      "text/plain": [
       "<matplotlib.figure.Figure at 0x7f22486c4160>"
      ]
     },
     "metadata": {
      "needs_background": "light"
     },
     "output_type": "display_data"
    }
   ],
   "source": [
    "filename = hr_filenames[1]\n",
    "data = np.load(filename)\n",
    "hr_data = data['hr']\n",
    "np.percentile(hr_data,5)\n",
    "plt.plot(hr_data)"
   ]
  },
  {
   "cell_type": "markdown",
   "metadata": {},
   "source": [
    "### Test the code"
   ]
  },
  {
   "cell_type": "code",
   "execution_count": 14,
   "metadata": {},
   "outputs": [
    {
     "data": {
      "text/plain": [
       "'65-69'"
      ]
     },
     "execution_count": 14,
     "metadata": {},
     "output_type": "execute_result"
    }
   ],
   "source": [
    "subject = filename.split('/')[3].split('.')[0]\n",
    "metadata[metadata['subject'] == subject]['age'].values[0]"
   ]
  },
  {
   "cell_type": "code",
   "execution_count": 15,
   "metadata": {},
   "outputs": [
    {
     "data": {
      "text/plain": [
       "'Male'"
      ]
     },
     "execution_count": 15,
     "metadata": {},
     "output_type": "execute_result"
    }
   ],
   "source": [
    "metadata[metadata['subject'] == subject]['sex'].values[0]"
   ]
  },
  {
   "cell_type": "markdown",
   "metadata": {},
   "source": [
    "#### Compute Resting Heart Rate\n",
    "For each subject we want to compute the resting heart rate while keeping track of which age group this subject belongs to. An easy, robust way to compute the resting heart rate is to use the lowest 5th percentile value in the heart rate timeseries."
   ]
  },
  {
   "cell_type": "code",
   "execution_count": 16,
   "metadata": {},
   "outputs": [],
   "source": [
    "def AgeAndRHR(metadata, filename):\n",
    "\n",
    "    # Load the heart rate timeseries\n",
    "    data = np.load(filename)\n",
    "    hr_data = data['hr']\n",
    "    \n",
    "    # Compute the resting heart rate from the timeseries by \n",
    "    # finding the lowest 5th percentile value in hr_data\n",
    "    rhr = np.percentile(hr_data, 5)\n",
    "\n",
    "    # Find the subject ID from the filename.\n",
    "    subject = filename.split('/')[3].split('.')[0]\n",
    "\n",
    "    # Find the age group for this subject in metadata.\n",
    "    age_group = metadata[metadata['subject'] == subject]['age'].values[0]\n",
    "    \n",
    "    # Find the sex for this subject in metadata.\n",
    "    sex = metadata[metadata['subject'] == subject]['sex'].values[0]\n",
    "\n",
    "    return age_group, sex, rhr\n",
    "\n",
    "df = pd.DataFrame(data=[AgeAndRHR(metadata, filename) for filename in hr_filenames],\n",
    "                  columns=['age_group', 'sex', 'rhr'])"
   ]
  },
  {
   "cell_type": "code",
   "execution_count": 17,
   "metadata": {},
   "outputs": [
    {
     "data": {
      "text/html": [
       "<div>\n",
       "<style scoped>\n",
       "    .dataframe tbody tr th:only-of-type {\n",
       "        vertical-align: middle;\n",
       "    }\n",
       "\n",
       "    .dataframe tbody tr th {\n",
       "        vertical-align: top;\n",
       "    }\n",
       "\n",
       "    .dataframe thead th {\n",
       "        text-align: right;\n",
       "    }\n",
       "</style>\n",
       "<table border=\"1\" class=\"dataframe\">\n",
       "  <thead>\n",
       "    <tr style=\"text-align: right;\">\n",
       "      <th></th>\n",
       "      <th>age_group</th>\n",
       "      <th>sex</th>\n",
       "      <th>rhr</th>\n",
       "    </tr>\n",
       "  </thead>\n",
       "  <tbody>\n",
       "    <tr>\n",
       "      <th>0</th>\n",
       "      <td>60-64</td>\n",
       "      <td>Female</td>\n",
       "      <td>89.302326</td>\n",
       "    </tr>\n",
       "    <tr>\n",
       "      <th>1</th>\n",
       "      <td>65-69</td>\n",
       "      <td>Male</td>\n",
       "      <td>65.641026</td>\n",
       "    </tr>\n",
       "    <tr>\n",
       "      <th>2</th>\n",
       "      <td>45-49</td>\n",
       "      <td>Male</td>\n",
       "      <td>56.928458</td>\n",
       "    </tr>\n",
       "    <tr>\n",
       "      <th>3</th>\n",
       "      <td>60-64</td>\n",
       "      <td>Male</td>\n",
       "      <td>68.571429</td>\n",
       "    </tr>\n",
       "    <tr>\n",
       "      <th>4</th>\n",
       "      <td>50-54</td>\n",
       "      <td>Male</td>\n",
       "      <td>84.395604</td>\n",
       "    </tr>\n",
       "  </tbody>\n",
       "</table>\n",
       "</div>"
      ],
      "text/plain": [
       "  age_group     sex        rhr\n",
       "0     60-64  Female  89.302326\n",
       "1     65-69    Male  65.641026\n",
       "2     45-49    Male  56.928458\n",
       "3     60-64    Male  68.571429\n",
       "4     50-54    Male  84.395604"
      ]
     },
     "execution_count": 17,
     "metadata": {},
     "output_type": "execute_result"
    }
   ],
   "source": [
    "df.head()"
   ]
  },
  {
   "cell_type": "code",
   "execution_count": 18,
   "metadata": {},
   "outputs": [
    {
     "data": {
      "image/png": "[encoded data removed]",
      "text/plain": [
       "<matplotlib.figure.Figure at 0x7f22486d7748>"
      ]
     },
     "metadata": {
      "needs_background": "light"
     },
     "output_type": "display_data"
    }
   ],
   "source": [
    "sex_count = df['sex'].value_counts()\n",
    "plt.figure(figsize=(10,5))\n",
    "sns.barplot(sex_count.index, sex_count.values, alpha = 0.6)\n",
    "plt.title('Count of Gender')\n",
    "plt.ylabel('Count')\n",
    "plt.xlabel('Gender')\n",
    "plt.show()"
   ]
  },
  {
   "cell_type": "markdown",
   "metadata": {},
   "source": [
    "#### Plot Resting Heart Rate vs. Age Group\n",
    "We'll use [seaborn](https://seaborn.pydata.org/) to plot the relationship. Seaborn is a thin wrapper around matplotlib, which we've used extensively in this class, that enables higher-level statistical plots.\n",
    "\n",
    "We will use [lineplot](https://seaborn.pydata.org/generated/seaborn.lineplot.html#seaborn.lineplot) to plot the mean of the resting heart rates for each age group along with the 95% confidence interval around the mean. Learn more about making plots that show uncertainty [here](https://seaborn.pydata.org/tutorial/relational.html#aggregation-and-representing-uncertainty)."
   ]
  },
  {
   "cell_type": "code",
   "execution_count": 19,
   "metadata": {},
   "outputs": [],
   "source": [
    "# !pip show seaborn"
   ]
  },
  {
   "cell_type": "code",
   "execution_count": 20,
   "metadata": {},
   "outputs": [],
   "source": [
    "# print(sns.__version__)"
   ]
  },
  {
   "cell_type": "code",
   "execution_count": 21,
   "metadata": {},
   "outputs": [],
   "source": [
    "# !pip install seaborn==0.9.0"
   ]
  },
  {
   "cell_type": "code",
   "execution_count": 22,
   "metadata": {},
   "outputs": [],
   "source": [
    "# print(sns.__version__)"
   ]
  },
  {
   "cell_type": "code",
   "execution_count": 23,
   "metadata": {},
   "outputs": [
    {
     "data": {
      "image/png": "[encoded data removed]",
      "text/plain": [
       "<matplotlib.figure.Figure at 0x7f2247e470f0>"
      ]
     },
     "metadata": {
      "needs_background": "light"
     },
     "output_type": "display_data"
    }
   ],
   "source": [
    "import seaborn as sns\n",
    "from matplotlib import pyplot as plt\n",
    "\n",
    "labels = sorted(np.unique(df.age_group))\n",
    "df['xaxis'] = df.age_group.map(lambda x: labels.index(x)).astype('float')\n",
    "plt.figure(figsize=(12, 8))\n",
    "sns.lineplot(x='xaxis', y='rhr', hue='sex', data=df)\n",
    "_ = plt.xticks(np.arange(len(labels)), labels)"
   ]
  },
  {
   "cell_type": "code",
   "execution_count": 34,
   "metadata": {},
   "outputs": [
    {
     "data": {
      "text/plain": [
       "sex     age_group\n",
       "Female  35-39        64.936157\n",
       "        40-44        72.880497\n",
       "        45-49        71.109613\n",
       "        50-54        70.464430\n",
       "        55-59        70.488809\n",
       "        60-64        67.733858\n",
       "        65-69        62.926454\n",
       "        70-74        59.386176\n",
       "        75-79        61.024178\n",
       "Male    35-39        65.092105\n",
       "        40-44        63.046920\n",
       "        45-49        65.359438\n",
       "        50-54        64.594842\n",
       "        55-59        61.622980\n",
       "        60-64        62.780684\n",
       "        65-69        63.480979\n",
       "        70-74        61.871341\n",
       "        75-79        61.661049\n",
       "Name: rhr, dtype: float64"
      ]
     },
     "execution_count": 34,
     "metadata": {},
     "output_type": "execute_result"
    }
   ],
   "source": [
    "df.groupby(['sex','age_group'])['rhr'].mean()"
   ]
  },
  {
   "cell_type": "code",
   "execution_count": 35,
   "metadata": {},
   "outputs": [
    {
     "data": {
      "text/plain": [
       "sex     age_group\n",
       "Female  35-39          4\n",
       "        40-44          8\n",
       "        45-49         15\n",
       "        50-54         18\n",
       "        55-59         46\n",
       "        60-64         67\n",
       "        65-69         61\n",
       "        70-74         39\n",
       "        75-79         19\n",
       "Male    35-39         24\n",
       "        40-44         54\n",
       "        45-49        109\n",
       "        50-54        146\n",
       "        55-59        215\n",
       "        60-64        246\n",
       "        65-69        230\n",
       "        70-74        157\n",
       "        75-79         79\n",
       "Name: rhr, dtype: int64"
      ]
     },
     "execution_count": 35,
     "metadata": {},
     "output_type": "execute_result"
    }
   ],
   "source": [
    "df.groupby(['sex','age_group'])['rhr'].count()"
   ]
  },
  {
   "cell_type": "markdown",
   "metadata": {},
   "source": [
    "### Clinical Conclusion\n",
    "Answer the following prompts to draw a conclusion about the data.\n",
    "> 1. For women, we see the heart rate is higher **for age-groups between 35-39 - 65-69.**\n",
    "> 2. For men, we see **the heart rate fluctuates around 65 with less variations when compared to female heart rate** \n",
    "> 3. In comparison to men, women's heart rate is **higher and fluctuates between ~ 60-73** \n",
    "> 4. What are some possible reasons for what we see in our data?\n",
    "    **One of the main reason could be explained by the smaller data size for females (18% vs 82%) compared to male**\n",
    "> 5. What else can we do or go and find to figure out what is really happening? How would that improve the results?\n",
    "**By spliting the data by groups, one could see that we need to collect more data for females in the age ranges of 35-54 (please see above for the breakdown)**\n",
    "> 6. Did we validate the trend that average resting heart rate increases up until middle age and then decreases into old age? How?\n",
    "**Of the two gender types, male data doesnt reflect this conclusion. For female group data, it is not possible to make any conclusion due to the smaller data size.**"
   ]
  },
  {
   "cell_type": "code",
   "execution_count": null,
   "metadata": {},
   "outputs": [],
   "source": []
  }
 ],
 "metadata": {
  "kernelspec": {
   "display_name": "Python 3",
   "language": "python",
   "name": "python3"
  },
  "language_info": {
   "codemirror_mode": {
    "name": "ipython",
    "version": 3
   },
   "file_extension": ".py",
   "mimetype": "text/x-python",
   "name": "python",
   "nbconvert_exporter": "python",
   "pygments_lexer": "ipython3",
   "version": "3.6.3"
  }
 },
 "nbformat": 4,
 "nbformat_minor": 2
}
