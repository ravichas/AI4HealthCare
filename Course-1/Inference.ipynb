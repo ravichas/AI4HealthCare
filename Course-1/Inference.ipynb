{
 "cells": [
  {
   "cell_type": "code",
   "execution_count": 64,
   "metadata": {},
   "outputs": [],
   "source": [
    "import numpy as np\n",
    "import pandas as pd\n",
    "import pydicom\n",
    "%matplotlib inline\n",
    "import matplotlib.pyplot as plt\n",
    "import keras \n",
    "from keras.models import model_from_json\n",
    "from skimage.transform import resize\n"
   ]
  },
  {
   "cell_type": "code",
   "execution_count": 76,
   "metadata": {},
   "outputs": [],
   "source": [
    "# This function reads in a .dcm file, checks the important fields for \n",
    "# our device, and returns a numpy array\n",
    "# of just the imaging data\n",
    "def check_dicom(filename): \n",
    "    # todo\n",
    "    \n",
    "    print('Load file {} ...'.format(filename))\n",
    "    ds = pydicom.dcmread(filename)\n",
    "#     print(ds)\n",
    "    print(\"Modality\")\n",
    "    print(ds.PatientID, \"\\n\")\n",
    "    \n",
    "    print(\"Body Part Examined :\")\n",
    "    print(ds.BodyPartExamined, \"\\n\")\n",
    "    \n",
    "    print(\"Patient Age\")\n",
    "    print(ds.PatientAge,\"\\n\")\n",
    "    \n",
    "    print(\"Patient Position\")\n",
    "    print(ds.PatientPosition,\"\\n\")\n",
    "    \n",
    "    print(\"Photometric Interpretation\")\n",
    "    print(ds.PhotometricInterpretation,\"\\n\")\n",
    "    \n",
    "    img = ds.pixel_array\n",
    "    return img\n",
    "    \n",
    "    \n",
    "# This function takes the numpy array output by check_dicom and \n",
    "# runs the appropriate pre-processing needed for our model input\n",
    "def preprocess_image(img, img_mean, img_std, img_size): \n",
    "    # todo\n",
    "    proc_img = (img - img_mean)/img_std\n",
    "    # based on mentor reply\n",
    "    proc_img = resize(proc_img, img_size, anti_aliasing=True)\n",
    "    return proc_img\n",
    "\n",
    "# This function loads in our trained model w/ weights and compiles it \n",
    "def load_model(model_path, weight_path):\n",
    "    # todo\n",
    "    with open(model_path, 'r') as json_file:\n",
    "        model_json = json_file.read()\n",
    "        model = model_from_json(model_json)\n",
    "        model.load_weights(weight_path)   \n",
    "\n",
    "    return model\n",
    "\n",
    "# This function uses our device's threshold parameters to predict whether or not\n",
    "# the image shows the presence of pneumonia using our trained model\n",
    "def predict_image(model, img, thresh): \n",
    "    # todo    \n",
    "    pred_Y = model.predict(img)\n",
    "    \n",
    "    if pred_Y > thresh:\n",
    "        return 'Pneumonia'\n",
    "    else:\n",
    "        return 'Not pneumonia'\n",
    "    \n",
    "    return prediction "
   ]
  },
  {
   "cell_type": "code",
   "execution_count": 79,
   "metadata": {},
   "outputs": [
    {
     "data": {
      "text/plain": [
       "'PA'"
      ]
     },
     "execution_count": 79,
     "metadata": {},
     "output_type": "execute_result"
    }
   ],
   "source": [
    "ds = pydicom.dcmread('test1.dcm')\n",
    "ds.PatientPosition"
   ]
  },
  {
   "cell_type": "code",
   "execution_count": 67,
   "metadata": {},
   "outputs": [
    {
     "name": "stdout",
     "output_type": "stream",
     "text": [
      "Load file test5.dcm ...\n",
      "Modality\n",
      "2 \n",
      "\n",
      "Body Part Examined :\n",
      "CHEST \n",
      "\n",
      "Patient Age\n",
      "81 \n",
      "\n",
      "Patient Position\n",
      "PA \n",
      "\n"
     ]
    }
   ],
   "source": [
    "img = check_dicom('test5.dcm')"
   ]
  },
  {
   "cell_type": "code",
   "execution_count": 68,
   "metadata": {},
   "outputs": [
    {
     "name": "stdout",
     "output_type": "stream",
     "text": [
      "mean_intensity of the image 180.0586576461792\n",
      "std_intensity of the image 47.89115072730743\n",
      "size of the image (1024, 1024)\n"
     ]
    }
   ],
   "source": [
    "img_mean = np.mean(img)\n",
    "print(\"mean_intensity of the image\", img_mean)\n",
    "\n",
    "img_std = np.std(img)\n",
    "print(\"std_intensity of the image\", img_std)\n",
    "\n",
    "img_size = img.shape\n",
    "print(\"size of the image\", img_size)"
   ]
  },
  {
   "cell_type": "markdown",
   "metadata": {},
   "source": [
    "```\n",
    "test1: mean_intensity of the image 180.0586576461792\n",
    "std_intensity of the image 47.89115072730743\n",
    "test2: mean_intensity of the image 128.13570880889893\n",
    "std_intensity of the image 67.42323200014457\n",
    "test3: mean_intensity of the image 104.74800395965576\n",
    "std_intensity of the image 66.22413614301003\n",
    "test4: mean_intensity of the image 180.0586576461792\n",
    "std_intensity of the image 47.89115072730743\n",
    "test5: mean_intensity of the image 180.0586576461792\n",
    "std_intensity of the image 47.89115072730743\n",
    "size of the image (1024, 1024)\n",
    "test6: mean_intensity of the image 180.0586576461792\n",
    "std_intensity of the image 47.89115072730743\n",
    "size of the image (1024, 1024)\n",
    "```"
   ]
  },
  {
   "cell_type": "code",
   "execution_count": 69,
   "metadata": {},
   "outputs": [
    {
     "name": "stdout",
     "output_type": "stream",
     "text": [
      "158.855\n",
      "54.203333333333326\n"
     ]
    }
   ],
   "source": [
    "means = [180.06, 128.14, 104.75, 180.06, 180.06, 180.06]\n",
    "print(np.mean(means))\n",
    "sds = [47.90, 67.43, 66.22, 47.89, 47.89, 47.89]\n",
    "print(np.mean(sds))"
   ]
  },
  {
   "cell_type": "code",
   "execution_count": 70,
   "metadata": {},
   "outputs": [],
   "source": [
    "# img_shape = (1024, 1024)"
   ]
  },
  {
   "cell_type": "code",
   "execution_count": 71,
   "metadata": {},
   "outputs": [],
   "source": [
    "# new_img = preprocess_image(img, img_mean, img_std, img_shape)"
   ]
  },
  {
   "cell_type": "code",
   "execution_count": 72,
   "metadata": {},
   "outputs": [],
   "source": [
    "# new_img"
   ]
  },
  {
   "cell_type": "code",
   "execution_count": 73,
   "metadata": {},
   "outputs": [
    {
     "name": "stdout",
     "output_type": "stream",
     "text": [
      "Load file test1.dcm ...\n",
      "Modality\n",
      "2 \n",
      "\n",
      "Body Part Examined :\n",
      "CHEST \n",
      "\n",
      "Patient Age\n",
      "81 \n",
      "\n",
      "Patient Position\n",
      "PA \n",
      "\n",
      "Prediction:  Not pneumonia \n",
      "\n",
      "**No indication of Pneumonia** \n",
      "\n",
      "Load file test2.dcm ...\n",
      "Modality\n",
      "1 \n",
      "\n",
      "Body Part Examined :\n",
      "CHEST \n",
      "\n",
      "Patient Age\n",
      "58 \n",
      "\n",
      "Patient Position\n",
      "AP \n",
      "\n",
      "Prediction:  Not pneumonia \n",
      "\n",
      "**No indication of Pneumonia** \n",
      "\n",
      "Load file test3.dcm ...\n",
      "Modality\n",
      "61 \n",
      "\n",
      "Body Part Examined :\n",
      "CHEST \n",
      "\n",
      "Patient Age\n",
      "77 \n",
      "\n",
      "Patient Position\n",
      "AP \n",
      "\n",
      "Prediction:  Not pneumonia \n",
      "\n",
      "**No indication of Pneumonia** \n",
      "\n",
      "Load file test4.dcm ...\n",
      "Modality\n",
      "2 \n",
      "\n",
      "Body Part Examined :\n",
      "RIBCAGE \n",
      "\n",
      "Patient Age\n",
      "81 \n",
      "\n",
      "Patient Position\n",
      "PA \n",
      "\n",
      "Prediction:  Not pneumonia \n",
      "\n",
      "**No indication of Pneumonia** \n",
      "\n",
      "Load file test5.dcm ...\n",
      "Modality\n",
      "2 \n",
      "\n",
      "Body Part Examined :\n",
      "CHEST \n",
      "\n",
      "Patient Age\n",
      "81 \n",
      "\n",
      "Patient Position\n",
      "PA \n",
      "\n",
      "Prediction:  Not pneumonia \n",
      "\n",
      "**No indication of Pneumonia** \n",
      "\n",
      "Load file test6.dcm ...\n",
      "Modality\n",
      "2 \n",
      "\n",
      "Body Part Examined :\n",
      "CHEST \n",
      "\n",
      "Patient Age\n",
      "81 \n",
      "\n",
      "Patient Position\n",
      "XX \n",
      "\n",
      "Prediction:  Not pneumonia \n",
      "\n",
      "**No indication of Pneumonia** \n",
      "\n"
     ]
    }
   ],
   "source": [
    "test_dicoms = ['test1.dcm','test2.dcm','test3.dcm',\n",
    "               'test4.dcm','test5.dcm','test6.dcm']\n",
    "\n",
    "model_path = 'my_model.json'#path to saved model\n",
    "weight_path = 'xray_class_my_model.best.hdf5'#path to saved best weights\n",
    "\n",
    "IMG_SIZE=(1,224,224,3) # This might be different if you did not use vgg16\n",
    "img_mean = 0.5922315 # loads the mean image value they used during training preprocessing\n",
    "img_std = 0.23761849 # loads the std dev image value they used during training preprocessing\n",
    "\n",
    "my_model = load_model(model_path, weight_path)#loads model\n",
    "thresh = 0.50 #loads the threshold they chose for model classification \n",
    "\n",
    "# use the .dcm files to test your prediction\n",
    "for i in test_dicoms:\n",
    "    \n",
    "    img = np.array([])\n",
    "    img = check_dicom(i)\n",
    "    \n",
    "    if img is None:\n",
    "        continue\n",
    "        \n",
    "    img_proc = preprocess_image(img,img_mean,img_std,IMG_SIZE)\n",
    "    pred = predict_image(my_model,img_proc,thresh)\n",
    "    print(\"Prediction: \", pred, \"\\n\")\n",
    "    if (pred == \"Pneumonia\"):\n",
    "        print(\"**probably Pneumonia**\",\"\\n\")\n",
    "    else: \n",
    "        print(\"**No indication of Pneumonia**\",\"\\n\")"
   ]
  },
  {
   "cell_type": "code",
   "execution_count": null,
   "metadata": {},
   "outputs": [],
   "source": []
  }
 ],
 "metadata": {
  "kernelspec": {
   "display_name": "Python 3",
   "language": "python",
   "name": "python3"
  },
  "language_info": {
   "codemirror_mode": {
    "name": "ipython",
    "version": 3
   },
   "file_extension": ".py",
   "mimetype": "text/x-python",
   "name": "python",
   "nbconvert_exporter": "python",
   "pygments_lexer": "ipython3",
   "version": "3.7.6"
  }
 },
 "nbformat": 4,
 "nbformat_minor": 2
}
